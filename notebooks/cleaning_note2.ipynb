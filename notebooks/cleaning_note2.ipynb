{
 "cells": [
  {
   "cell_type": "code",
   "execution_count": 1,
   "metadata": {},
   "outputs": [],
   "source": [
    "import numpy as np\n",
    "import pandas as pd\n",
    "import matplotlib.pyplot as plt\n",
    "import seaborn as sns\n",
    "import re"
   ]
  },
  {
   "cell_type": "code",
   "execution_count": 10,
   "metadata": {},
   "outputs": [
    {
     "data": {
      "text/html": [
       "<div>\n",
       "<style scoped>\n",
       "    .dataframe tbody tr th:only-of-type {\n",
       "        vertical-align: middle;\n",
       "    }\n",
       "\n",
       "    .dataframe tbody tr th {\n",
       "        vertical-align: top;\n",
       "    }\n",
       "\n",
       "    .dataframe thead th {\n",
       "        text-align: right;\n",
       "    }\n",
       "</style>\n",
       "<table border=\"1\" class=\"dataframe\">\n",
       "  <thead>\n",
       "    <tr style=\"text-align: right;\">\n",
       "      <th></th>\n",
       "      <th>country_id</th>\n",
       "      <th>product</th>\n",
       "      <th>product_code</th>\n",
       "      <th>flow</th>\n",
       "      <th>unit</th>\n",
       "      <th>year</th>\n",
       "      <th>value</th>\n",
       "    </tr>\n",
       "  </thead>\n",
       "  <tbody>\n",
       "    <tr>\n",
       "      <th>0</th>\n",
       "      <td>Albania</td>\n",
       "      <td>pulpwood</td>\n",
       "      <td>11</td>\n",
       "      <td>EXPORTS</td>\n",
       "      <td>1000 m.t.</td>\n",
       "      <td>2007</td>\n",
       "      <td>0.00</td>\n",
       "    </tr>\n",
       "    <tr>\n",
       "      <th>1</th>\n",
       "      <td>Albania</td>\n",
       "      <td>roundwood</td>\n",
       "      <td>14</td>\n",
       "      <td>EXPORTS</td>\n",
       "      <td>1000 m3</td>\n",
       "      <td>2007</td>\n",
       "      <td>58.59</td>\n",
       "    </tr>\n",
       "    <tr>\n",
       "      <th>2</th>\n",
       "      <td>Albania</td>\n",
       "      <td>sawnwood</td>\n",
       "      <td>16</td>\n",
       "      <td>EXPORTS</td>\n",
       "      <td>1000 m3</td>\n",
       "      <td>2007</td>\n",
       "      <td>65.48</td>\n",
       "    </tr>\n",
       "    <tr>\n",
       "      <th>3</th>\n",
       "      <td>Albania</td>\n",
       "      <td>wood fuel</td>\n",
       "      <td>21</td>\n",
       "      <td>EXPORTS</td>\n",
       "      <td>1000 m3</td>\n",
       "      <td>2007</td>\n",
       "      <td>56.30</td>\n",
       "    </tr>\n",
       "    <tr>\n",
       "      <th>4</th>\n",
       "      <td>Armenia</td>\n",
       "      <td>pulpwood</td>\n",
       "      <td>11</td>\n",
       "      <td>EXPORTS</td>\n",
       "      <td>1000 m.t.</td>\n",
       "      <td>2007</td>\n",
       "      <td>0.00</td>\n",
       "    </tr>\n",
       "  </tbody>\n",
       "</table>\n",
       "</div>"
      ],
      "text/plain": [
       "  country_id    product  product_code     flow       unit  year  value\n",
       "0    Albania   pulpwood            11  EXPORTS  1000 m.t.  2007   0.00\n",
       "1    Albania  roundwood            14  EXPORTS    1000 m3  2007  58.59\n",
       "2    Albania   sawnwood            16  EXPORTS    1000 m3  2007  65.48\n",
       "3    Albania  wood fuel            21  EXPORTS    1000 m3  2007  56.30\n",
       "4    Armenia   pulpwood            11  EXPORTS  1000 m.t.  2007   0.00"
      ]
     },
     "execution_count": 10,
     "metadata": {},
     "output_type": "execute_result"
    }
   ],
   "source": [
    "#read in data\n",
    "df = pd.read_csv('../data/raw/raw_material_export.csv')\n",
    "df.head()"
   ]
  },
  {
   "cell_type": "markdown",
   "metadata": {},
   "source": [
    "# Year for analysis\n",
    "\n",
    "We will use a random generator to chose a random year"
   ]
  },
  {
   "cell_type": "code",
   "execution_count": 11,
   "metadata": {},
   "outputs": [
    {
     "name": "stdout",
     "output_type": "stream",
     "text": [
      "2013\n"
     ]
    }
   ],
   "source": [
    "#pick a random number between 2007 and 2021\n",
    "np.random.seed(42) #so that the number is the same each time\n",
    "year = np.random.randint(2007, 2021)\n",
    "print(year)"
   ]
  },
  {
   "cell_type": "markdown",
   "metadata": {},
   "source": [
    "so we will use year 2013"
   ]
  },
  {
   "cell_type": "code",
   "execution_count": 12,
   "metadata": {},
   "outputs": [
    {
     "data": {
      "text/html": [
       "<div>\n",
       "<style scoped>\n",
       "    .dataframe tbody tr th:only-of-type {\n",
       "        vertical-align: middle;\n",
       "    }\n",
       "\n",
       "    .dataframe tbody tr th {\n",
       "        vertical-align: top;\n",
       "    }\n",
       "\n",
       "    .dataframe thead th {\n",
       "        text-align: right;\n",
       "    }\n",
       "</style>\n",
       "<table border=\"1\" class=\"dataframe\">\n",
       "  <thead>\n",
       "    <tr style=\"text-align: right;\">\n",
       "      <th></th>\n",
       "      <th>country_id</th>\n",
       "      <th>product</th>\n",
       "      <th>product_code</th>\n",
       "      <th>flow</th>\n",
       "      <th>unit</th>\n",
       "      <th>year</th>\n",
       "      <th>value</th>\n",
       "    </tr>\n",
       "  </thead>\n",
       "  <tbody>\n",
       "    <tr>\n",
       "      <th>1272</th>\n",
       "      <td>Albania</td>\n",
       "      <td>pulpwood</td>\n",
       "      <td>11</td>\n",
       "      <td>EXPORTS</td>\n",
       "      <td>1000 m.t.</td>\n",
       "      <td>2013</td>\n",
       "      <td>0.01</td>\n",
       "    </tr>\n",
       "    <tr>\n",
       "      <th>1273</th>\n",
       "      <td>Albania</td>\n",
       "      <td>roundwood</td>\n",
       "      <td>14</td>\n",
       "      <td>EXPORTS</td>\n",
       "      <td>1000 m3</td>\n",
       "      <td>2013</td>\n",
       "      <td>88.37</td>\n",
       "    </tr>\n",
       "    <tr>\n",
       "      <th>1274</th>\n",
       "      <td>Albania</td>\n",
       "      <td>sawnwood</td>\n",
       "      <td>16</td>\n",
       "      <td>EXPORTS</td>\n",
       "      <td>1000 m3</td>\n",
       "      <td>2013</td>\n",
       "      <td>35.17</td>\n",
       "    </tr>\n",
       "    <tr>\n",
       "      <th>1275</th>\n",
       "      <td>Albania</td>\n",
       "      <td>wood fuel</td>\n",
       "      <td>21</td>\n",
       "      <td>EXPORTS</td>\n",
       "      <td>1000 m3</td>\n",
       "      <td>2013</td>\n",
       "      <td>75.90</td>\n",
       "    </tr>\n",
       "    <tr>\n",
       "      <th>1276</th>\n",
       "      <td>Armenia</td>\n",
       "      <td>pulpwood</td>\n",
       "      <td>11</td>\n",
       "      <td>EXPORTS</td>\n",
       "      <td>1000 m.t.</td>\n",
       "      <td>2013</td>\n",
       "      <td>0.00</td>\n",
       "    </tr>\n",
       "  </tbody>\n",
       "</table>\n",
       "</div>"
      ],
      "text/plain": [
       "     country_id    product  product_code     flow       unit  year  value\n",
       "1272    Albania   pulpwood            11  EXPORTS  1000 m.t.  2013   0.01\n",
       "1273    Albania  roundwood            14  EXPORTS    1000 m3  2013  88.37\n",
       "1274    Albania   sawnwood            16  EXPORTS    1000 m3  2013  35.17\n",
       "1275    Albania  wood fuel            21  EXPORTS    1000 m3  2013  75.90\n",
       "1276    Armenia   pulpwood            11  EXPORTS  1000 m.t.  2013   0.00"
      ]
     },
     "execution_count": 12,
     "metadata": {},
     "output_type": "execute_result"
    }
   ],
   "source": [
    "#select the data for year 2013\n",
    "df = df[df['year'] == 2013]\n",
    "df.head()"
   ]
  },
  {
   "cell_type": "code",
   "execution_count": 13,
   "metadata": {},
   "outputs": [],
   "source": [
    "#read df into a csv file\n",
    "df.to_csv('../data/cleaned/2013_export.csv', index=False)"
   ]
  },
  {
   "cell_type": "markdown",
   "metadata": {},
   "source": [
    "WE WILL USE TABLEAU TO VISUALIZE THE DATAS"
   ]
  }
 ],
 "metadata": {
  "kernelspec": {
   "display_name": "mid_project",
   "language": "python",
   "name": "python3"
  },
  "language_info": {
   "codemirror_mode": {
    "name": "ipython",
    "version": 3
   },
   "file_extension": ".py",
   "mimetype": "text/x-python",
   "name": "python",
   "nbconvert_exporter": "python",
   "pygments_lexer": "ipython3",
   "version": "3.9.13"
  },
  "orig_nbformat": 4
 },
 "nbformat": 4,
 "nbformat_minor": 2
}
